{
 "cells": [
  {
   "cell_type": "markdown",
   "metadata": {
    "tags": [
     "Format"
    ]
   },
   "source": [
    "#利用LLM从医疗文本中提取FHIR数据\n",
    "\n",
    "##原理：\n",
    "\n",
    "准备：使用[中文医疗信息处理评测基准CBLUE](https://tianchi.aliyun.com/dataset/95414?lang=zh-cn)中的临床发现事件抽取（CHIP-CDEE）数据集，对阿里[Qwen2-7B-Instruct](https://huggingface.co/Qwen/Qwen2-7B-Instruct)大模型进行监督微调（SFT），获得针对临床发现事件抽取任务特化的大模型[Qwen2-7B-Instruction-extraction](https://huggingface.co/neonicholasi/Qwen2-7B-Instruction-extraction)，用于支撑后续的医疗文本处理任务。\n",
    "\n",
    "整个文本处理过程分两步\n",
    "\n",
    "###第一步：\n",
    "\n",
    "利用Qwen2-7B-Instruction-extraction从医疗文本中以CHIP-CDEE要求的格式提取临床发现事件（主要包含临床观察、诊断），临床发现事件以如下格式JSON呈现：\n",
    "\n",
    "\n",
    "```json\n",
    "text: 表示病历或者医学影像报告\n",
    "    event: 列表结构，由一个或者多个事件四元组组成\n",
    "        core_name: 主体词，字符串\n",
    "        tendency: 发生状态，字符串，如果没有发生状态，默认为\"\"\n",
    "        character: 描述词，列表结构，如果没有描述词，默认为[]\n",
    "        anatomy_list: 解剖部位，列表结构，如果没有解剖部位，默认为[]\n",
    "\n",
    "```\n",
    "\n",
    "###第二步:\n",
    "\n",
    "以第一步中获得的临床发现事件为基础，再次调用Qwen2-7B-Instruction-extraction，将临床发现事件转换为FHIR R4版本的资源，并以JSON数组包装多个FHIR资源。\n",
    "尽管Qwen2具备一定的FHIR知识，但经测试，此模型并未针对该任务进行过微调，因此Qwen2-7B-Instruction-extraction在转换FHIR资源时可观测到如下限制：\n",
    "1. 有FHIR资源实例幻觉，如对同一临床发现重复生成多个资源\n",
    "2. 有FHIR资源属性幻觉，生成一些未被FHIR R4定义的属性\n",
    "3. 输出不完整，由于FHIR资源属性远较第一步中形成的事件属性丰富，生成的FHIR资源报文长度远大于原文本长度和临床事件数组的报文长度。因此该模型标配的最大2048字节的文本生成长度（max_new_tokens）常不足以容纳完整的FHIR资源数组所需的长度，造成生成中断，产生不完整的FHIR资源数组。\n",
    "\n",
    "##为流畅演示，使用前设置如下：\n",
    "\n",
    "1. 启动[大模型服务](https://colab.research.google.com/drive/1nGT1IZ_1KyIwQfaBG9FgGxRGYpK08QqQ#scrollTo=kIt2Ma2WGAQC)\n",
    "2. 设置下文的appURL为服务地址\n",
    "3. 启动[IRIS Production](http://localhost:52773/csp/healthshare/fhirserver/EnsPortal.ProductionConfig.zen?$NAMESPACE=FHIRSERVER&$NAMESPACE=FHIRSERVER&)，并将BO TextHandler.operations.\n",
    "4. AIOperation的连接地址更新为服务地址\n",
    "5. 拷贝一段临床文本以备输入\n",
    "6. 因跨容器通信，需将intServiceUrl中的ip部分改为容器iris-showcase分配到的IP地址"
   ]
  },
  {
   "cell_type": "code",
   "execution_count": 11,
   "metadata": {},
   "outputs": [],
   "source": [
    "appURL = 'http://' + '2a69-34-125-113-171.ngrok-free.app'\n",
    "extractService = '/extract'\n",
    "fhirService = '/fhir'\n",
    "intServiceUrl = 'http://'+'172.23.0.3'+':52773/AIFunc/Text2FHIR'"
   ]
  },
  {
   "cell_type": "markdown",
   "metadata": {},
   "source": [
    "##医疗文本转临床发现事件"
   ]
  },
  {
   "cell_type": "markdown",
   "metadata": {},
   "source": [
    "医疗本文样本：\n",
    "\n",
    "入院前1+年，患儿无明显诱因开始出现阴茎增长，伴生长加速，无变声，无胡须，无痤疮，无皮肤色素沉着，在我院门诊诊断“先天性肾上腺皮质增生症”后规律予以激素替代治疗至今，期间规律于我院随访，现口服氢化可的松 10mg，3/日。\n",
    "\n",
    "患儿精神睡眠可，大小便未见明显异常。\n",
    "\n",
    "有“心脏病、房颤”病史10余年，在我科住院诊断为“风湿性心脏病，左房、右房增大，二尖瓣狭窄合并关闭不全，心房颤动，心功能ii级”，曾口服“华法林”抗凝约2月，后换用“氯吡格雷 50mg qd”抗血栓治疗。\n",
    "\n",
    "病理活检提示右肺下叶中-高分化鳞状细胞癌，<2、4、7、9、10、11、12组>淋巴结均未见癌转移，免疫组化：p63（+），cd56（-），ck5/6（+），ttf-1（-），napsina（-），ki6730%（+），alk（-）。\n",
    "\n",
    "无声音嘶哑、吞咽困难，在某医院输液治疗无缓解。\n",
    "\n",
    "1年余前（2018-07-25）患者于“某医院”全麻下行“腹腔镜探查术+肿瘤病灶活检术”,术后病理:(肠系膜、大网膜)转移性恶性肿瘤，倾向于转移性腺癌，诊断“盆腔转移性腺癌iiic期”。\n",
    "\n",
    "2019-04患者行胸腹部、盆腔ct提示：腹主动脉主动脉分叉下方类圆形低密度影，淋巴管囊肿？局限性扩张肠管？盆腔内、阴道及直肠残端片状软组织密度影，与双侧输尿管下段粘连；腹腔少许积液，腹膜增厚；盆腔内内淋巴结显示。\n",
    "\n",
    "2年前患者无明显诱因出现腹胀、腹围增加，腹胀与进食无明显关系，轻度乏力，能完成日常生活及工作，无腹痛、腹泻，无呕血、黑便及发热等，2015年5月9日就诊于我院，查甲胎蛋白增高（具体不详），腹部影像学检查诊断为“原发性肝癌”，于2015年5月15日在我院行tace术，口服恩替卡韦（0.5mg qd）抗病毒治疗，保肝等对症治疗好转出院。"
   ]
  },
  {
   "cell_type": "code",
   "execution_count": 9,
   "metadata": {},
   "outputs": [],
   "source": [
    "#输入医疗文本，可从样本中拷贝\n",
    "clinicText = input(\"请输入医疗文本: \")"
   ]
  },
  {
   "cell_type": "code",
   "execution_count": null,
   "metadata": {},
   "outputs": [],
   "source": [
    "import requests\n",
    "import json\n",
    "\n",
    "# 目标API的URL\n",
    "url = appURL + extractService\n",
    "\n",
    "# POST请求的数据，这里以JSON格式为例\n",
    "data = {\n",
    "    \"text\": clinicText\n",
    "}\n",
    "\n",
    "# 设置请求头，特别指明Content-Type为application/json\n",
    "headers = {'Content-Type': 'application/json'}\n",
    "\n",
    "# 发起POST请求\n",
    "response = requests.post(url, data=json.dumps(data), headers=headers)\n",
    "\n",
    "# 检查请求是否成功\n",
    "if response.status_code == 200:\n",
    "    # 解析并打印返回的JSON数据\n",
    "    entity_data = response.json()\n",
    "    print(\"临床发现事件数据:\")\n",
    "    print(json.dumps(entity_data, ensure_ascii=False, indent=4))  # 使用indent参数让输出更加易读\n",
    "else:\n",
    "    print(f\"请求失败，状态码：{response.status_code}\")"
   ]
  },
  {
   "cell_type": "markdown",
   "metadata": {},
   "source": [
    "##临床发现事件转FHIR"
   ]
  },
  {
   "cell_type": "code",
   "execution_count": null,
   "metadata": {},
   "outputs": [],
   "source": [
    "import requests\n",
    "import json\n",
    "# 目标API的URL\n",
    "url = appURL + fhirService\n",
    "\n",
    "# POST请求的数据，这里以JSON格式为例\n",
    "data = {\n",
    "    \"text\": json.dumps(entity_data, ensure_ascii=False, indent=4)\n",
    "}\n",
    "\n",
    "# 设置请求头，特别指明Content-Type为application/json\n",
    "headers = {'Content-Type': 'application/json'}\n",
    "\n",
    "# 发起POST请求\n",
    "response = requests.post(url, data=json.dumps(data), headers=headers)\n",
    "\n",
    "# 检查请求是否成功\n",
    "if response.status_code == 200:\n",
    "    # 解析并打印返回的JSON数据\n",
    "    fhir_data = response.json()\n",
    "    print(\"FHIR资源数据:\")\n",
    "    print(json.dumps(fhir_data, ensure_ascii=False, indent=4))  # 使用indent参数让输出更加易读\n",
    "else:\n",
    "    print(f\"请求失败，状态码：{response.status_code}\")"
   ]
  },
  {
   "cell_type": "markdown",
   "metadata": {},
   "source": [
    "##通过IRIS集成大模型能力，从临床文本中提取FHIR资源 （2～3分钟）\n",
    "[Production](http://localhost:52773/csp/healthshare/fhirserver/EnsPortal.ProductionConfig.zen?$NAMESPACE=FHIRSERVER&$NAMESPACE=FHIRSERVER&)"
   ]
  },
  {
   "cell_type": "code",
   "execution_count": null,
   "metadata": {},
   "outputs": [],
   "source": [
    "import requests\n",
    "import base64\n",
    "import requests\n",
    "import json\n",
    "# 目标API的URL\n",
    "url = intServiceUrl\n",
    "\n",
    "# POST请求的数据，这里以JSON格式为例\n",
    "data = {\n",
    "    \"text\": clinicText\n",
    "}\n",
    "\n",
    "# 设置你的用户名和密码\n",
    "username = 'superuser'\n",
    "password = 'SYS'\n",
    "\n",
    "# 将用户名和密码编码为Base64字符串，用于Authorization头\n",
    "credentials = f\"{username}:{password}\"\n",
    "encoded_credentials = base64.b64encode(credentials.encode()).decode('utf-8')\n",
    "\n",
    "# 设置请求头，特别指明Content-Type为application/json\n",
    "# 构建请求头，包括Authorization\n",
    "headers = {\n",
    "    \"Authorization\": f\"Basic {encoded_credentials}\",\n",
    "    \"Content-Type\": \"application/json\"  # 假设API需要JSON格式的内容类型\n",
    "}\n",
    "\n",
    "# 发起POST请求\n",
    "response = requests.post(url, json=data, headers=headers)\n",
    "\n",
    "# 检查请求是否成功\n",
    "if response.status_code == 200:\n",
    "    # 解析并打印返回的JSON数据\n",
    "    fhir_data = response.json()\n",
    "    print(\"FHIR资源数据:\")\n",
    "    print(json.dumps(fhir_data, indent=4))  # 使用indent参数让输出更加易读\n",
    "else:\n",
    "    print(f\"请求失败，状态码：{response.status_code}\")"
   ]
  }
 ],
 "metadata": {
  "kernelspec": {
   "display_name": ".venv",
   "language": "python",
   "name": "python3"
  },
  "language_info": {
   "codemirror_mode": {
    "name": "ipython",
    "version": 3
   },
   "file_extension": ".py",
   "mimetype": "text/x-python",
   "name": "python",
   "nbconvert_exporter": "python",
   "pygments_lexer": "ipython3",
   "version": "3.9.6"
  }
 },
 "nbformat": 4,
 "nbformat_minor": 2
}
